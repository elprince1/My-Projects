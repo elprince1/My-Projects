{
 "cells": [
  {
   "cell_type": "code",
   "execution_count": 12,
   "id": "4520d331",
   "metadata": {},
   "outputs": [],
   "source": [
    "import carla\n",
    "import time\n",
    "\n",
    "client = carla.Client(\"localhost\", 2000)\n",
    "client.set_timeout(10.0)\n",
    "world = client.get_world()\n",
    "\n",
    "blueprint_library = world.get_blueprint_library()\n",
    "vehicle_bp = blueprint_library.filter(\"vehicle.dodge.charger_2020\")[0]\n",
    "\n",
    "transform = world.get_map().get_spawn_points()[75]\n",
    "vehicle = world.spawn_actor(vehicle_bp, transform)\n",
    "\n"
   ]
  },
  {
   "cell_type": "code",
   "execution_count": 11,
   "id": "7c28c974",
   "metadata": {},
   "outputs": [
    {
     "data": {
      "text/plain": [
       "True"
      ]
     },
     "execution_count": 11,
     "metadata": {},
     "output_type": "execute_result"
    }
   ],
   "source": [
    "vehicle.apply_control(carla.VehicleControl(throttle=1.0, brake=0.0,steer=-0.15))\n",
    "time.sleep(6)\n",
    "vehicle.apply_control(carla.VehicleControl(throttle=0.0, brake=1.0,steer=0))\n",
    "\n",
    "time.sleep(2)\n",
    "vehicle.destroy()"
   ]
  },
  {
   "cell_type": "code",
   "execution_count": 4,
   "id": "4dacf563",
   "metadata": {},
   "outputs": [],
   "source": [
    "# https://carla.readthedocs.io/en/latest/catalogue_vehicles/"
   ]
  },
  {
   "cell_type": "code",
   "execution_count": 4,
   "id": "ef7579e9",
   "metadata": {},
   "outputs": [
    {
     "data": {
      "text/plain": [
       "True"
      ]
     },
     "execution_count": 4,
     "metadata": {},
     "output_type": "execute_result"
    }
   ],
   "source": []
  },
  {
   "cell_type": "code",
   "execution_count": null,
   "id": "fb0c290b",
   "metadata": {},
   "outputs": [],
   "source": []
  }
 ],
 "metadata": {
  "kernelspec": {
   "display_name": "Python 3 (ipykernel)",
   "language": "python",
   "name": "python3"
  },
  "language_info": {
   "codemirror_mode": {
    "name": "ipython",
    "version": 3
   },
   "file_extension": ".py",
   "mimetype": "text/x-python",
   "name": "python",
   "nbconvert_exporter": "python",
   "pygments_lexer": "ipython3",
   "version": "3.7.11"
  }
 },
 "nbformat": 4,
 "nbformat_minor": 5
}
