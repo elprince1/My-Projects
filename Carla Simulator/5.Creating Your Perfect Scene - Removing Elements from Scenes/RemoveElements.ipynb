{
 "cells": [
  {
   "cell_type": "code",
   "execution_count": 1,
   "id": "6b2307df",
   "metadata": {},
   "outputs": [],
   "source": [
    "import carla\n",
    "\n",
    "\n",
    "client = carla.Client(\"localhost\", 2000)\n",
    "client.set_timeout(10.0)        \n",
    "world = client.get_world()\n",
    "world.unload_map_layer(carla.MapLayer.Buildings)\n",
    "world.unload_map_layer(carla.MapLayer.Decals)\n",
    "world.unload_map_layer(carla.MapLayer.Foliage)\n",
    "world.unload_map_layer(carla.MapLayer.ParkedVehicles)\n",
    "world.unload_map_layer(carla.MapLayer.Particles)\n",
    "world.unload_map_layer(carla.MapLayer.Props)\n",
    "world.unload_map_layer(carla.MapLayer.Walls)\n"
   ]
  },
  {
   "cell_type": "code",
   "execution_count": null,
   "id": "02db7c5d",
   "metadata": {},
   "outputs": [],
   "source": [
    "# https://carla.readthedocs.io/en/latest/core_map/"
   ]
  }
 ],
 "metadata": {
  "kernelspec": {
   "display_name": "Python 3 (ipykernel)",
   "language": "python",
   "name": "python3"
  },
  "language_info": {
   "codemirror_mode": {
    "name": "ipython",
    "version": 3
   },
   "file_extension": ".py",
   "mimetype": "text/x-python",
   "name": "python",
   "nbconvert_exporter": "python",
   "pygments_lexer": "ipython3",
   "version": "3.7.11"
  }
 },
 "nbformat": 4,
 "nbformat_minor": 5
}
