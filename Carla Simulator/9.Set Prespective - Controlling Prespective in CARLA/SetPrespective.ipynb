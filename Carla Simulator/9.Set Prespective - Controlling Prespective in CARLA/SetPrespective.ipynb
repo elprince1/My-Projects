{
 "cells": [
  {
   "cell_type": "code",
   "execution_count": 1,
   "id": "13175434",
   "metadata": {},
   "outputs": [],
   "source": [
    "import carla\n",
    "\n",
    "\n",
    "client = carla.Client(\"localhost\", 2000)\n",
    "client.set_timeout(10.0)\n",
    "world = client.get_world()\n",
    "\n",
    "spawn_points = world.get_map().get_spawn_points()\n",
    "\n",
    "# make truck in environment\n",
    "vehicle_bp = world.get_blueprint_library().filter('vehicle.carlamotors.firetruck')\n",
    "start_point = spawn_points[75]\n",
    "vehicle = world.spawn_actor(vehicle_bp[0], start_point)"
   ]
  },
  {
   "cell_type": "code",
   "execution_count": 2,
   "id": "3fb5fae0",
   "metadata": {},
   "outputs": [],
   "source": [
    "def setPrespective(vehicle):\n",
    "    spectator = world.get_spectator()\n",
    "    transform = carla.Transform(vehicle.get_transform().transform(carla.Location(x=5,z=1.6)),vehicle.get_transform().rotation)\n",
    "    spectator.set_transform(transform)"
   ]
  },
  {
   "cell_type": "code",
   "execution_count": 3,
   "id": "46e48116",
   "metadata": {},
   "outputs": [],
   "source": [
    "blueprint_library = world.get_blueprint_library()\n",
    "rgb_cam = blueprint_library.find('sensor.camera.rgb')\n",
    "\n",
    "transform = carla.Transform(carla.Location(x=4,z=1.6),carla.Rotation(roll=0,pitch=0,yaw=0))\n",
    "sensor = world.spawn_actor(rgb_cam, transform, attach_to=vehicle)\n",
    "\n",
    "sensor.listen(lambda data: setPrespective(vehicle))\n",
    "\n",
    "\n",
    "vehicle.set_autopilot(True)"
   ]
  },
  {
   "cell_type": "code",
   "execution_count": 4,
   "id": "25a70d5c",
   "metadata": {},
   "outputs": [
    {
     "data": {
      "text/plain": [
       "True"
      ]
     },
     "execution_count": 4,
     "metadata": {},
     "output_type": "execute_result"
    }
   ],
   "source": [
    "sensor.destroy()\n",
    "vehicle.destroy()"
   ]
  },
  {
   "cell_type": "code",
   "execution_count": null,
   "id": "d8afb219",
   "metadata": {},
   "outputs": [],
   "source": []
  }
 ],
 "metadata": {
  "kernelspec": {
   "display_name": "Python 3 (ipykernel)",
   "language": "python",
   "name": "python3"
  },
  "language_info": {
   "codemirror_mode": {
    "name": "ipython",
    "version": 3
   },
   "file_extension": ".py",
   "mimetype": "text/x-python",
   "name": "python",
   "nbconvert_exporter": "python",
   "pygments_lexer": "ipython3",
   "version": "3.7.11"
  }
 },
 "nbformat": 4,
 "nbformat_minor": 5
}
