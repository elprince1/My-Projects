{
 "cells": [
  {
   "cell_type": "code",
   "execution_count": 1,
   "id": "464545b9",
   "metadata": {},
   "outputs": [],
   "source": [
    "import carla\n",
    "import math"
   ]
  },
  {
   "cell_type": "code",
   "execution_count": 2,
   "id": "968d5c67",
   "metadata": {},
   "outputs": [],
   "source": [
    "\n",
    "client = carla.Client('localhost', 2000)\n",
    "\n",
    "world = client.get_world()\n",
    "blueprint_library = world.get_blueprint_library()\n",
    "\n",
    "spawn_point = world.get_map().get_spawn_points()[75]\n",
    "\n",
    "vehicle_bp = blueprint_library.filter('vehicle.mercedes.coupe_2020')[0]\n",
    "vehicle = world.try_spawn_actor(vehicle_bp, spawn_point)\n",
    "\n",
    "\n",
    "lidar_blueprint = blueprint_library.find('sensor.lidar.ray_cast')\n",
    "lidar_blueprint.set_attribute('channels',str(32))\n",
    "lidar_blueprint.set_attribute('points_per_second',str(100000))\n",
    "lidar_blueprint.set_attribute('rotation_frequency',str(10.0))\n",
    "lidar_blueprint.set_attribute('upper_fov',str(30.0))\n",
    "lidar_blueprint.set_attribute('lower_fov',str(-25.0))\n",
    "lidar_blueprint.set_attribute('horizontal_fov',str(360))\n",
    "lidar_blueprint.set_attribute('range',str(100.0))\n",
    "\n",
    "\n",
    "\n",
    "\n",
    "\n",
    "\n"
   ]
  },
  {
   "cell_type": "code",
   "execution_count": 3,
   "id": "6d1b1528",
   "metadata": {},
   "outputs": [],
   "source": [
    "def lidar_data(point_cloud_data):\n",
    "    \n",
    "    for detection in point_cloud_data:\n",
    "        #print(detection.point.x,detection.point.y,detection.point.z)\n",
    "        print(\"Distance: \",math.sqrt(((detection.point.x) ** 2) + ((detection.point.y) ** 2) + ((detection.point.z) ** 2)))\n"
   ]
  },
  {
   "cell_type": "code",
   "execution_count": null,
   "id": "18916beb",
   "metadata": {},
   "outputs": [],
   "source": [
    "transform = carla.Transform(carla.Location(x =4,z=1.6),carla.Rotation(pitch=0.000000, yaw=0, roll=0.000000)) \n",
    "\n",
    "\n",
    "sensor = world.spawn_actor(lidar_blueprint, transform, attach_to=vehicle)\n",
    "\n",
    "\n",
    "sensor.listen(lambda point_cloud: lidar_data(point_cloud))"
   ]
  },
  {
   "cell_type": "code",
   "execution_count": null,
   "id": "fdd6768f",
   "metadata": {},
   "outputs": [],
   "source": []
  }
 ],
 "metadata": {
  "kernelspec": {
   "display_name": "Python 3 (ipykernel)",
   "language": "python",
   "name": "python3"
  },
  "language_info": {
   "codemirror_mode": {
    "name": "ipython",
    "version": 3
   },
   "file_extension": ".py",
   "mimetype": "text/x-python",
   "name": "python",
   "nbconvert_exporter": "python",
   "pygments_lexer": "ipython3",
   "version": "3.7.11"
  }
 },
 "nbformat": 4,
 "nbformat_minor": 5
}
