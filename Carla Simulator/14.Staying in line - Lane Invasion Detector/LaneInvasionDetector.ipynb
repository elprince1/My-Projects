{
 "cells": [
  {
   "cell_type": "code",
   "execution_count": null,
   "id": "bb4182d1",
   "metadata": {},
   "outputs": [],
   "source": [
    "import carla\n",
    "\n",
    "client = carla.Client('localhost', 2000)\n",
    "\n",
    "world = client.get_world()\n",
    "blueprint_library = world.get_blueprint_library()\n",
    "\n",
    "spawn_point = world.get_map().get_spawn_points()[75]\n",
    "\n",
    "vehicle_bp = blueprint_library.filter('vehicle.mercedes.coupe_2020')[0]\n",
    "vehicle = world.try_spawn_actor(vehicle_bp, spawn_point)\n"
   ]
  },
  {
   "cell_type": "code",
   "execution_count": null,
   "id": "8fe822a1",
   "metadata": {},
   "outputs": [],
   "source": [
    "def LaneFunc(lanes):\n",
    "    #print(lanes)\n",
    "    for marking in lanes.crossed_lane_markings:\n",
    "        print(marking.type)"
   ]
  },
  {
   "cell_type": "code",
   "execution_count": null,
   "id": "aba95e27",
   "metadata": {},
   "outputs": [],
   "source": [
    "lane_blueprint = blueprint_library.find('sensor.other.lane_invasion')\n",
    "transform = carla.Transform(carla.Location(x =4,z=1.6),carla.Rotation(pitch=0.000000, yaw=0, roll=0.000000)) \n",
    "\n",
    "sensor = world.spawn_actor(lane_blueprint, transform, attach_to=vehicle)\n",
    "\n",
    "sensor.listen(lambda lanes: LaneFunc(lanes))\n"
   ]
  },
  {
   "cell_type": "code",
   "execution_count": null,
   "id": "11afe6f9",
   "metadata": {},
   "outputs": [],
   "source": [
    "vehicle.apply_control(carla.VehicleControl(throttle=1.0))"
   ]
  },
  {
   "cell_type": "code",
   "execution_count": null,
   "id": "c29a65f2",
   "metadata": {},
   "outputs": [],
   "source": [
    "# https://carla.readthedocs.io/en/latest/ref_sensors/#lane-invasion-detector\n",
    "# https://carla.readthedocs.io/en/latest/python_api/#carla.LaneInvasionEvent"
   ]
  },
  {
   "cell_type": "code",
   "execution_count": null,
   "id": "948459ad",
   "metadata": {},
   "outputs": [],
   "source": []
  },
  {
   "cell_type": "code",
   "execution_count": null,
   "id": "dce174cc",
   "metadata": {},
   "outputs": [],
   "source": []
  }
 ],
 "metadata": {
  "kernelspec": {
   "display_name": "Python 3 (ipykernel)",
   "language": "python",
   "name": "python3"
  },
  "language_info": {
   "codemirror_mode": {
    "name": "ipython",
    "version": 3
   },
   "file_extension": ".py",
   "mimetype": "text/x-python",
   "name": "python",
   "nbconvert_exporter": "python",
   "pygments_lexer": "ipython3",
   "version": "3.7.11"
  }
 },
 "nbformat": 4,
 "nbformat_minor": 5
}
