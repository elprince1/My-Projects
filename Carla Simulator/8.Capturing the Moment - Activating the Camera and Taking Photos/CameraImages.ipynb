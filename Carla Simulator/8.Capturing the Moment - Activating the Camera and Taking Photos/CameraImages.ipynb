{
 "cells": [
  {
   "cell_type": "code",
   "execution_count": 1,
   "id": "f9acdfe6",
   "metadata": {},
   "outputs": [],
   "source": [
    "import carla\n",
    "import time\n",
    "import os\n",
    "import cv2\n",
    "import numpy as np\n",
    "\n",
    "client = carla.Client(\"localhost\", 2000)\n",
    "client.set_timeout(10.0)\n",
    "world = client.get_world()\n",
    "\n",
    "blueprint_library = world.get_blueprint_library()\n",
    "vehicle_bp = blueprint_library.filter(\"vehicle.carlamotors.firetruck\")[0]\n",
    "\n",
    "transform = world.get_map().get_spawn_points()[75]\n",
    "vehicle = world.spawn_actor(vehicle_bp, transform)\n"
   ]
  },
  {
   "cell_type": "code",
   "execution_count": 2,
   "id": "60acf92e",
   "metadata": {},
   "outputs": [],
   "source": [
    "def camFunc(data):\n",
    "    i = np.array(data.raw_data)\n",
    "    i2 = i.reshape((720, 1024, 4))\n",
    "    i3 = i2[:, :, :3]\n",
    "    \n",
    "    cv2.imshow(\"\", i3)\n",
    "    cv2.waitKey(1)\n",
    "    "
   ]
  },
  {
   "cell_type": "code",
   "execution_count": 3,
   "id": "56a43c1e",
   "metadata": {},
   "outputs": [],
   "source": [
    "rgb_cam = blueprint_library.find('sensor.camera.rgb')\n",
    "rgb_cam.set_attribute(\"image_size_x\", \"1024\")\n",
    "rgb_cam.set_attribute(\"image_size_y\", \"720\")\n",
    "rgb_cam.set_attribute(\"fov\", \"90\")\n",
    "\n",
    "transform = carla.Transform(carla.Location(x=4,z=1.6),carla.Rotation(roll=0,pitch=0,yaw=0))\n",
    "sensor = world.spawn_actor(rgb_cam, transform, attach_to=vehicle)\n",
    "\n",
    "if not os.path.exists(\"output\\\\\"):\n",
    "    os.mkdir(\"output\\\\\")\n",
    "#sensor.listen(lambda data: data.save_to_disk('output/%.6d.jpg' % data.frame))\n",
    "sensor.listen(lambda data: camFunc(data))"
   ]
  },
  {
   "cell_type": "code",
   "execution_count": 4,
   "id": "09860d72",
   "metadata": {},
   "outputs": [],
   "source": [
    "vehicle.set_autopilot(True)"
   ]
  },
  {
   "cell_type": "code",
   "execution_count": 4,
   "id": "51e9e8de",
   "metadata": {},
   "outputs": [
    {
     "data": {
      "text/plain": [
       "True"
      ]
     },
     "execution_count": 4,
     "metadata": {},
     "output_type": "execute_result"
    }
   ],
   "source": [
    "time.sleep(10)\n",
    "sensor.destroy()\n",
    "vehicle.destroy()"
   ]
  },
  {
   "cell_type": "code",
   "execution_count": null,
   "id": "9002b5b1",
   "metadata": {},
   "outputs": [],
   "source": [
    "# https://carla.readthedocs.io/en/latest/ref_sensors/#rgb-camera"
   ]
  }
 ],
 "metadata": {
  "kernelspec": {
   "display_name": "Python 3 (ipykernel)",
   "language": "python",
   "name": "python3"
  },
  "language_info": {
   "codemirror_mode": {
    "name": "ipython",
    "version": 3
   },
   "file_extension": ".py",
   "mimetype": "text/x-python",
   "name": "python",
   "nbconvert_exporter": "python",
   "pygments_lexer": "ipython3",
   "version": "3.7.11"
  }
 },
 "nbformat": 4,
 "nbformat_minor": 5
}
