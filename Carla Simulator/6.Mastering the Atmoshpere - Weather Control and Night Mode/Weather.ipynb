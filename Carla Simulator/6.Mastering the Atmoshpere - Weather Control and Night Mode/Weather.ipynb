{
 "cells": [
  {
   "cell_type": "code",
   "execution_count": 4,
   "id": "cd8f1dfe",
   "metadata": {},
   "outputs": [],
   "source": [
    "import carla\n",
    "\n",
    "client = carla.Client(\"localhost\", 2000)\n",
    "client.set_timeout(10.0)\n",
    "world = client.get_world()\n",
    "\n",
    "\n",
    "## weather\n",
    "#weather = carla.WeatherParameters.ClearSunset\n",
    "## custom weather\n",
    "# weather = carla.WeatherParameters(\n",
    "#             cloudiness=80.0,\n",
    "#             precipitation=50.0,\n",
    "#             sun_altitude_angle=10)\n",
    "\n",
    "## night mode\n",
    "weather = carla.WeatherParameters(\n",
    "            cloudiness=80.0,\n",
    "            precipitation=100.0,\n",
    "            sun_altitude_angle=-10)\n",
    "\n",
    "\n",
    "world.set_weather(weather)"
   ]
  },
  {
   "cell_type": "code",
   "execution_count": null,
   "id": "d8934995",
   "metadata": {},
   "outputs": [],
   "source": [
    "# https://carla.readthedocs.io/en/0.9.2/python_api/"
   ]
  }
 ],
 "metadata": {
  "kernelspec": {
   "display_name": "Python 3 (ipykernel)",
   "language": "python",
   "name": "python3"
  },
  "language_info": {
   "codemirror_mode": {
    "name": "ipython",
    "version": 3
   },
   "file_extension": ".py",
   "mimetype": "text/x-python",
   "name": "python",
   "nbconvert_exporter": "python",
   "pygments_lexer": "ipython3",
   "version": "3.7.11"
  }
 },
 "nbformat": 4,
 "nbformat_minor": 5
}
