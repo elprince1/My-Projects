{
 "cells": [
  {
   "cell_type": "code",
   "execution_count": 1,
   "id": "0dad1cfa",
   "metadata": {},
   "outputs": [],
   "source": [
    "import carla\n",
    "import time\n",
    "import os\n",
    "import cv2\n",
    "import numpy as np\n",
    "\n",
    "client = carla.Client(\"localhost\", 2000)\n",
    "client.set_timeout(10.0)\n",
    "world = client.get_world()\n",
    "\n",
    "######## synchronous mode ##########\n",
    "settings = world.get_settings()\n",
    "settings.synchronous_mode = True\n",
    "settings.fixed_delta_seconds = 0.05\n",
    "settings.no_rendering_mode = True\n",
    "world.apply_settings(settings)\n",
    "####################################\n",
    "\n",
    "blueprint_library = world.get_blueprint_library()\n",
    "vehicle_bp = blueprint_library.filter(\"vehicle.carlamotors.firetruck\")[0]\n",
    "\n",
    "transform = world.get_map().get_spawn_points()[75]\n",
    "vehicle = world.spawn_actor(vehicle_bp, transform)\n"
   ]
  },
  {
   "cell_type": "code",
   "execution_count": 2,
   "id": "e06ddc4e",
   "metadata": {},
   "outputs": [],
   "source": [
    "rgb_cam = blueprint_library.find('sensor.camera.rgb')\n",
    "rgb_cam.set_attribute(\"image_size_x\", \"1024\")\n",
    "rgb_cam.set_attribute(\"image_size_y\", \"720\")\n",
    "rgb_cam.set_attribute(\"fov\", \"90\")\n",
    "\n",
    "transform = carla.Transform(carla.Location(x=4,z=1.6),carla.Rotation(roll=0,pitch=0,yaw=0))\n",
    "sensor = world.spawn_actor(rgb_cam, transform, attach_to=vehicle)\n",
    "\n",
    "if not os.path.exists(\"output\\\\\"):\n",
    "    os.mkdir(\"output\\\\\")\n",
    "sensor.listen(lambda data: data.save_to_disk('output/%.6d.jpg' % data.frame))"
   ]
  },
  {
   "cell_type": "code",
   "execution_count": 3,
   "id": "0da0f5f0",
   "metadata": {},
   "outputs": [],
   "source": [
    "vehicle.set_autopilot(True)"
   ]
  },
  {
   "cell_type": "code",
   "execution_count": null,
   "id": "8caa1e07",
   "metadata": {},
   "outputs": [],
   "source": [
    "while True:\n",
    "    world.tick()"
   ]
  },
  {
   "cell_type": "code",
   "execution_count": null,
   "id": "338b7b1d",
   "metadata": {},
   "outputs": [],
   "source": [
    "sensor.destroy()\n",
    "vehicle.destroy()"
   ]
  },
  {
   "cell_type": "code",
   "execution_count": null,
   "id": "75dcee94",
   "metadata": {},
   "outputs": [],
   "source": []
  }
 ],
 "metadata": {
  "kernelspec": {
   "display_name": "Python 3 (ipykernel)",
   "language": "python",
   "name": "python3"
  },
  "language_info": {
   "codemirror_mode": {
    "name": "ipython",
    "version": 3
   },
   "file_extension": ".py",
   "mimetype": "text/x-python",
   "name": "python",
   "nbconvert_exporter": "python",
   "pygments_lexer": "ipython3",
   "version": "3.7.11"
  }
 },
 "nbformat": 4,
 "nbformat_minor": 5
}
