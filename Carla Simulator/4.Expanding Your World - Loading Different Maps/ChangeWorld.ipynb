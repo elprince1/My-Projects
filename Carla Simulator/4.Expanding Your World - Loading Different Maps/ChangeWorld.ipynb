{
 "cells": [
  {
   "cell_type": "code",
   "execution_count": 1,
   "id": "e01752a7",
   "metadata": {},
   "outputs": [],
   "source": [
    "import carla\n",
    "\n",
    "\n",
    "client = carla.Client(\"localhost\", 2000)\n",
    "client.set_timeout(50.0)        \n",
    "world = client.load_world(\"Town01\")\n"
   ]
  },
  {
   "cell_type": "code",
   "execution_count": null,
   "id": "19cc2905",
   "metadata": {},
   "outputs": [],
   "source": [
    "# https://carla.readthedocs.io/en/latest/core_map/#carla-maps"
   ]
  }
 ],
 "metadata": {
  "kernelspec": {
   "display_name": "Python 3 (ipykernel)",
   "language": "python",
   "name": "python3"
  },
  "language_info": {
   "codemirror_mode": {
    "name": "ipython",
    "version": 3
   },
   "file_extension": ".py",
   "mimetype": "text/x-python",
   "name": "python",
   "nbconvert_exporter": "python",
   "pygments_lexer": "ipython3",
   "version": "3.7.11"
  }
 },
 "nbformat": 4,
 "nbformat_minor": 5
}
